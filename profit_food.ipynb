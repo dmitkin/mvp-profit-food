{
 "cells": [
  {
   "cell_type": "markdown",
   "id": "ce834b60-07c3-4b48-8104-b615e34af524",
   "metadata": {},
   "source": [
    "### Описание проекта."
   ]
  },
  {
   "cell_type": "markdown",
   "id": "219d855b-1c54-4f39-9aee-5bd16fdfc50a",
   "metadata": {},
   "source": [
    "Задачей данного проекта является создание прототипа приложения, которое сможет выполнять функцию оптимизации. Нам предоставлены данные с разными пищевыми продуктами с указанными ценами, а также содержанием в продуктах микроэлементов. У человека есть суточная потребность в различных микроэлементах, удовлетворить которую можно с помощью сочитания различных продуктов. Нашей целью является подобрать такой рацион, при котором будет удовлетворена суточная потребность в микроэлементах, а затраты на покупку продуктов будут минимальными."
   ]
  },
  {
   "cell_type": "markdown",
   "id": "42bd9934-7eb0-46cf-a3b2-dcbe816bf0bc",
   "metadata": {
    "tags": []
   },
   "source": [
    "### Принцип работы приложения на кратком примере."
   ]
  },
  {
   "cell_type": "markdown",
   "id": "2f385a8b-18e6-4d4b-8055-32209bccc12f",
   "metadata": {},
   "source": [
    "Решать задачу будем с помощью бесплатной библиотеки PuLP, предназначенной для решения задач оптимизации с помощью методов линейного программирования."
   ]
  },
  {
   "cell_type": "code",
   "execution_count": 2,
   "id": "46e8d7f5-1d33-4972-aeca-b2d24c9ea114",
   "metadata": {},
   "outputs": [],
   "source": [
    "from pulp import *\n",
    "import pandas as pd"
   ]
  },
  {
   "cell_type": "code",
   "execution_count": 2,
   "id": "35dbd37f-95ca-4f8e-a8e8-286ab10be19c",
   "metadata": {},
   "outputs": [
    {
     "data": {
      "text/plain": [
       "Ca    0.80\n",
       "Mg    0.35\n",
       "P     0.80\n",
       "Name: Суточная норма, dtype: float64"
      ]
     },
     "execution_count": 2,
     "metadata": {},
     "output_type": "execute_result"
    }
   ],
   "source": [
    "# Суточная потребность в граммах\n",
    "\n",
    "test_micronutrients = pd.Series({'Ca': 0.8,\n",
    "                            'Mg': 0.35,\n",
    "                            'P': 0.8}, \n",
    "                            name='Суточная норма')\n",
    "test_micronutrients"
   ]
  },
  {
   "cell_type": "code",
   "execution_count": 3,
   "id": "c645ed0b-5c56-460f-b8c7-c534c8d29519",
   "metadata": {},
   "outputs": [],
   "source": [
    "# Содержание микроэлементов в 100г продукта\n",
    "\n",
    "test_data = pd.DataFrame({'Гречка': [0.02, 0.2, 0.298, 89],\n",
    "                          'Сыр голландский': [1, 0.05, 0.54, 500]}, index=['Ca', 'Mg', 'P', 'Цена'])"
   ]
  },
  {
   "cell_type": "code",
   "execution_count": 4,
   "id": "d8744ee1-a1d3-4105-b5e0-656c002b5b1b",
   "metadata": {},
   "outputs": [
    {
     "data": {
      "text/html": [
       "<div>\n",
       "<style scoped>\n",
       "    .dataframe tbody tr th:only-of-type {\n",
       "        vertical-align: middle;\n",
       "    }\n",
       "\n",
       "    .dataframe tbody tr th {\n",
       "        vertical-align: top;\n",
       "    }\n",
       "\n",
       "    .dataframe thead th {\n",
       "        text-align: right;\n",
       "    }\n",
       "</style>\n",
       "<table border=\"1\" class=\"dataframe\">\n",
       "  <thead>\n",
       "    <tr style=\"text-align: right;\">\n",
       "      <th></th>\n",
       "      <th>Ca</th>\n",
       "      <th>Mg</th>\n",
       "      <th>P</th>\n",
       "      <th>Цена</th>\n",
       "    </tr>\n",
       "  </thead>\n",
       "  <tbody>\n",
       "    <tr>\n",
       "      <th>Гречка</th>\n",
       "      <td>0.02</td>\n",
       "      <td>0.20</td>\n",
       "      <td>0.298</td>\n",
       "      <td>89.0</td>\n",
       "    </tr>\n",
       "    <tr>\n",
       "      <th>Сыр голландский</th>\n",
       "      <td>1.00</td>\n",
       "      <td>0.05</td>\n",
       "      <td>0.540</td>\n",
       "      <td>500.0</td>\n",
       "    </tr>\n",
       "    <tr>\n",
       "      <th>Суточная норма</th>\n",
       "      <td>0.80</td>\n",
       "      <td>0.35</td>\n",
       "      <td>0.800</td>\n",
       "      <td>NaN</td>\n",
       "    </tr>\n",
       "  </tbody>\n",
       "</table>\n",
       "</div>"
      ],
      "text/plain": [
       "                   Ca    Mg      P   Цена\n",
       "Гречка           0.02  0.20  0.298   89.0\n",
       "Сыр голландский  1.00  0.05  0.540  500.0\n",
       "Суточная норма   0.80  0.35  0.800    NaN"
      ]
     },
     "execution_count": 4,
     "metadata": {},
     "output_type": "execute_result"
    }
   ],
   "source": [
    "test_data.join(test_micronutrients).transpose()"
   ]
  },
  {
   "cell_type": "markdown",
   "id": "62cb8410-6c79-46ec-8f03-dd0584b7e131",
   "metadata": {},
   "source": [
    "Пусть гречка = x1 (вернее сказать - неизвестная доля гречки), а сыр = x2, тогда ограничения примут следующий вид:\n",
    "* Содержание кальция: $0.02 * x1 + 1 * x2 >= 0.8$\n",
    "* Содержание магния: $0.2 * x1 + 0.05 * x2 >= 0.35$\n",
    "* Содержание фосфора: $0.298 * x1 + 0.54 * x2 >= 0.8$\n",
    "\n",
    "А целевая функция (цена) будет:\n",
    "$f(x) = 89 * x1 + 500 * x2 → min$"
   ]
  },
  {
   "cell_type": "code",
   "execution_count": 5,
   "id": "fae9cde8-33a0-46b0-8ef4-957389fe9897",
   "metadata": {},
   "outputs": [],
   "source": [
    "# Создаем проблему оптимизации\n",
    "\n",
    "prob = LpProblem(\"Minimize_cost\", LpMinimize)"
   ]
  },
  {
   "cell_type": "code",
   "execution_count": 6,
   "id": "67b9efde-4845-4236-ae8c-30d1cdf29dae",
   "metadata": {},
   "outputs": [],
   "source": [
    "# Определяем переменные, каждая переменная соответствует одному товару\n",
    "\n",
    "x1 = pulp.LpVariable('гречка', lowBound=0)\n",
    "x2 = pulp.LpVariable('сыр', lowBound=0)"
   ]
  },
  {
   "cell_type": "code",
   "execution_count": 7,
   "id": "56d345c5-2727-4c58-9b0a-ec9412b42d97",
   "metadata": {},
   "outputs": [],
   "source": [
    "# Переменная prob начинает сбор данных с помощью оператора +=\n",
    "\n",
    "prob += 89 * x1 + 500 * x2, 'Целевая функция'\n",
    "\n",
    "prob += 0.02 * x1 + 1 * x2 >= 0.8, \"Содержание кальция должно быть больше 0.8\"\n",
    "prob += 0.2 * x1 + 0.05 * x2 >= 0.35, \"Содержание магния должно быть больше 0.35\"\n",
    "prob += 0.298 * x1 + 0.54 * x2 >= 0.8, \"Содержание фосфора должно быть больше 0.8\""
   ]
  },
  {
   "cell_type": "code",
   "execution_count": 8,
   "id": "f6ec53f3-8d37-4aa2-ae7a-79d6e8d3c1ce",
   "metadata": {},
   "outputs": [
    {
     "data": {
      "text/plain": [
       "1"
      ]
     },
     "execution_count": 8,
     "metadata": {},
     "output_type": "execute_result"
    }
   ],
   "source": [
    "prob.solve()"
   ]
  },
  {
   "cell_type": "code",
   "execution_count": 9,
   "id": "10644b3f-8a65-4e87-9d50-ff5814b37bf4",
   "metadata": {},
   "outputs": [
    {
     "name": "stdout",
     "output_type": "stream",
     "text": [
      "523.0653221\n"
     ]
    }
   ],
   "source": [
    "print(value(prob.objective))"
   ]
  },
  {
   "cell_type": "code",
   "execution_count": 10,
   "id": "b7c3d193-6323-4283-8736-55c711885168",
   "metadata": {},
   "outputs": [
    {
     "name": "stdout",
     "output_type": "stream",
     "text": [
      "гречка = 1.5577889\n",
      "сыр = 0.76884422\n"
     ]
    }
   ],
   "source": [
    "for variable in prob.variables():\n",
    "    print(variable.name, \"=\", variable.varValue)"
   ]
  },
  {
   "cell_type": "markdown",
   "id": "452b146a-5790-481c-b901-d5cf35aca6be",
   "metadata": {},
   "source": [
    "Таким образом, для удовлетворения суточной потребности в K, Mg, P и минимальных трат на выбранные продукты, нам необходимо купить 156г. гречки и 77г. сыра и потратить при этом 523 руб."
   ]
  },
  {
   "cell_type": "markdown",
   "id": "2369620d-095c-4aed-b4fe-6ec25cd20234",
   "metadata": {},
   "source": [
    "---"
   ]
  },
  {
   "cell_type": "markdown",
   "id": "aa984924-6709-4327-8b0d-6009f4c32a93",
   "metadata": {},
   "source": [
    "### План проекта.\n",
    " * Составить датафрейм с продуктами, пищевой ценностью и ценами. \n",
    "   * Для начала это будет небольшая таблица, составленная вручную (100 наиболее популярных продуктовых товаров) \n",
    "   * В дальнейшем необходимо настроить автоматический парсинг и мониторинг цен разных розничных сетей.\n",
    " * Рассчет индивидуальной потребности человека в микроэлементах по указанным параметрам.\n",
    " * Написание кода программы и отладка.\n",
    " * Создание телеграм-бота.\n",
    " * Презентация проекта.\n",
    " * Запуск стартапа 😁."
   ]
  },
  {
   "cell_type": "markdown",
   "id": "3673f3b2-2cee-4980-9c66-bc43443eb9a7",
   "metadata": {},
   "source": [
    "----"
   ]
  },
  {
   "cell_type": "markdown",
   "id": "7a6011dc-bed4-4d35-8ee3-277e86362a9d",
   "metadata": {},
   "source": [
    "### Загрузка датасета."
   ]
  },
  {
   "cell_type": "markdown",
   "id": "22febc2a-0126-4e95-bda4-325318b88b12",
   "metadata": {},
   "source": [
    "Датасет собран на основе данных [Министерства сельского хозяйства США](https://fdc.nal.usda.gov/)"
   ]
  },
  {
   "cell_type": "code",
   "execution_count": 3,
   "id": "11ab9c09-c9bf-47ab-8ea9-856ab8e96af1",
   "metadata": {},
   "outputs": [],
   "source": [
    "data = pd.read_csv('nutrient_data(copy2).csv')"
   ]
  },
  {
   "cell_type": "code",
   "execution_count": 4,
   "id": "19f15ea5-e633-4368-9fe5-74d5955d11f0",
   "metadata": {},
   "outputs": [],
   "source": [
    "data.drop(['Unnamed: 0', 'Description'], axis='columns', inplace=True)"
   ]
  },
  {
   "cell_type": "code",
   "execution_count": 5,
   "id": "5b638109-11cb-4268-9f32-c860ce21eb46",
   "metadata": {},
   "outputs": [],
   "source": [
    "obj_col = data.columns.drop(['DescriptionRu', 'FoodCategory', 'PriceRUB100g '])\n",
    "data[obj_col] = data[obj_col].apply(lambda x: x.str.replace(',', '.').astype('float64'))"
   ]
  },
  {
   "cell_type": "code",
   "execution_count": 6,
   "id": "746b1c90-e237-4a94-883b-2187ca78bb79",
   "metadata": {},
   "outputs": [
    {
     "data": {
      "text/html": [
       "<div>\n",
       "<style scoped>\n",
       "    .dataframe tbody tr th:only-of-type {\n",
       "        vertical-align: middle;\n",
       "    }\n",
       "\n",
       "    .dataframe tbody tr th {\n",
       "        vertical-align: top;\n",
       "    }\n",
       "\n",
       "    .dataframe thead th {\n",
       "        text-align: right;\n",
       "    }\n",
       "</style>\n",
       "<table border=\"1\" class=\"dataframe\">\n",
       "  <thead>\n",
       "    <tr style=\"text-align: right;\">\n",
       "      <th></th>\n",
       "      <th>DescriptionRu</th>\n",
       "      <th>PriceRUB100g</th>\n",
       "      <th>FoodCategory</th>\n",
       "      <th>Protein</th>\n",
       "      <th>Carbohydrate</th>\n",
       "      <th>Fat</th>\n",
       "      <th>Total Fiber</th>\n",
       "      <th>Magnesium (Mg)</th>\n",
       "      <th>SFA</th>\n",
       "      <th>Iron (Fe)</th>\n",
       "      <th>Selenium (Se)</th>\n",
       "      <th>Vitamin K (phylloquinone)</th>\n",
       "      <th>Vitamin B6 (pyridoxine)</th>\n",
       "      <th>Copper (Cu)</th>\n",
       "      <th>Phosphorus (P)</th>\n",
       "      <th>Linoleic 18:2 Omega-6</th>\n",
       "      <th>Calcium</th>\n",
       "      <th>Potassium (K)</th>\n",
       "      <th>Manganese (Mn)</th>\n",
       "      <th>Sodium (Na)</th>\n",
       "      <th>Folate</th>\n",
       "      <th>Thiamin</th>\n",
       "      <th>Zinc</th>\n",
       "      <th>Vitamin E (alpha-tocopherol)</th>\n",
       "      <th>Niacin</th>\n",
       "      <th>Biotin</th>\n",
       "      <th>Riboflavin (Vitamin B2)</th>\n",
       "      <th>Vitamin B12</th>\n",
       "      <th>Vitamin A</th>\n",
       "      <th>Vitamin D</th>\n",
       "      <th>EPA 20:5 Omega-3</th>\n",
       "      <th>ALA 18:3 Omega-3</th>\n",
       "      <th>Arachidonic 20:4 Omega-6</th>\n",
       "      <th>DHA 22:6 Omega-3</th>\n",
       "      <th>Trans Fat</th>\n",
       "      <th>Iodine (I)</th>\n",
       "      <th>Molybdenum (Mo)</th>\n",
       "      <th>Vitamin C</th>\n",
       "      <th>Choline</th>\n",
       "      <th>Pantothenic Acid (Vitamin B5)</th>\n",
       "      <th>Kcal</th>\n",
       "    </tr>\n",
       "  </thead>\n",
       "  <tbody>\n",
       "    <tr>\n",
       "      <th>0</th>\n",
       "      <td>Хлеб белый</td>\n",
       "      <td>10</td>\n",
       "      <td>Baked Products</td>\n",
       "      <td>9.43000</td>\n",
       "      <td>49.20000</td>\n",
       "      <td>3.590</td>\n",
       "      <td>2.3</td>\n",
       "      <td>26.9</td>\n",
       "      <td>0.821</td>\n",
       "      <td>3.360</td>\n",
       "      <td>23.2</td>\n",
       "      <td>0.0</td>\n",
       "      <td>0.0920</td>\n",
       "      <td>124.0</td>\n",
       "      <td>113.0</td>\n",
       "      <td>1.670</td>\n",
       "      <td>211.00</td>\n",
       "      <td>117.0</td>\n",
       "      <td>0.632</td>\n",
       "      <td>477.000</td>\n",
       "      <td>0.00</td>\n",
       "      <td>0.507</td>\n",
       "      <td>0.880</td>\n",
       "      <td>0.00</td>\n",
       "      <td>4.760</td>\n",
       "      <td>0.00</td>\n",
       "      <td>0.2400</td>\n",
       "      <td>0.00</td>\n",
       "      <td>0.0</td>\n",
       "      <td>0.0</td>\n",
       "      <td>0.002</td>\n",
       "      <td>0.200</td>\n",
       "      <td>0.002</td>\n",
       "      <td>0.000</td>\n",
       "      <td>0.035</td>\n",
       "      <td>0.0</td>\n",
       "      <td>0.0</td>\n",
       "      <td>0.0</td>\n",
       "      <td>0.0</td>\n",
       "      <td>0.548</td>\n",
       "      <td>266.830</td>\n",
       "    </tr>\n",
       "    <tr>\n",
       "      <th>1</th>\n",
       "      <td>Хлеб цельнозерновой</td>\n",
       "      <td>17</td>\n",
       "      <td>Baked Products</td>\n",
       "      <td>12.30000</td>\n",
       "      <td>43.10000</td>\n",
       "      <td>3.550</td>\n",
       "      <td>6.0</td>\n",
       "      <td>76.6</td>\n",
       "      <td>0.732</td>\n",
       "      <td>2.560</td>\n",
       "      <td>25.8</td>\n",
       "      <td>0.0</td>\n",
       "      <td>0.2160</td>\n",
       "      <td>226.0</td>\n",
       "      <td>212.0</td>\n",
       "      <td>1.460</td>\n",
       "      <td>163.00</td>\n",
       "      <td>250.0</td>\n",
       "      <td>2.180</td>\n",
       "      <td>450.000</td>\n",
       "      <td>42.00</td>\n",
       "      <td>0.391</td>\n",
       "      <td>1.760</td>\n",
       "      <td>2.82</td>\n",
       "      <td>4.430</td>\n",
       "      <td>0.00</td>\n",
       "      <td>0.1660</td>\n",
       "      <td>0.00</td>\n",
       "      <td>0.0</td>\n",
       "      <td>0.0</td>\n",
       "      <td>0.000</td>\n",
       "      <td>0.139</td>\n",
       "      <td>0.004</td>\n",
       "      <td>0.000</td>\n",
       "      <td>0.022</td>\n",
       "      <td>0.0</td>\n",
       "      <td>0.0</td>\n",
       "      <td>0.0</td>\n",
       "      <td>27.2</td>\n",
       "      <td>0.650</td>\n",
       "      <td>253.550</td>\n",
       "    </tr>\n",
       "    <tr>\n",
       "      <th>2</th>\n",
       "      <td>Печенье овсяное с изюмом</td>\n",
       "      <td>80</td>\n",
       "      <td>Baked Products</td>\n",
       "      <td>5.79000</td>\n",
       "      <td>69.60000</td>\n",
       "      <td>14.300</td>\n",
       "      <td>3.3</td>\n",
       "      <td>32.4</td>\n",
       "      <td>4.780</td>\n",
       "      <td>2.280</td>\n",
       "      <td>6.0</td>\n",
       "      <td>17.1</td>\n",
       "      <td>0.0700</td>\n",
       "      <td>141.0</td>\n",
       "      <td>111.0</td>\n",
       "      <td>4.210</td>\n",
       "      <td>29.00</td>\n",
       "      <td>245.0</td>\n",
       "      <td>0.755</td>\n",
       "      <td>314.000</td>\n",
       "      <td>34.00</td>\n",
       "      <td>0.295</td>\n",
       "      <td>0.620</td>\n",
       "      <td>2.69</td>\n",
       "      <td>2.110</td>\n",
       "      <td>0.00</td>\n",
       "      <td>0.2180</td>\n",
       "      <td>0.00</td>\n",
       "      <td>0.0</td>\n",
       "      <td>0.0</td>\n",
       "      <td>0.004</td>\n",
       "      <td>0.632</td>\n",
       "      <td>0.007</td>\n",
       "      <td>0.001</td>\n",
       "      <td>0.040</td>\n",
       "      <td>0.0</td>\n",
       "      <td>0.0</td>\n",
       "      <td>0.0</td>\n",
       "      <td>0.0</td>\n",
       "      <td>0.400</td>\n",
       "      <td>430.260</td>\n",
       "    </tr>\n",
       "    <tr>\n",
       "      <th>3</th>\n",
       "      <td>Говядина корейка</td>\n",
       "      <td>50</td>\n",
       "      <td>Beef Products</td>\n",
       "      <td>22.80000</td>\n",
       "      <td>0.00000</td>\n",
       "      <td>6.390</td>\n",
       "      <td>0.0</td>\n",
       "      <td>11.3</td>\n",
       "      <td>2.560</td>\n",
       "      <td>1.900</td>\n",
       "      <td>21.3</td>\n",
       "      <td>0.0</td>\n",
       "      <td>0.5750</td>\n",
       "      <td>43.0</td>\n",
       "      <td>206.0</td>\n",
       "      <td>0.259</td>\n",
       "      <td>15.00</td>\n",
       "      <td>282.0</td>\n",
       "      <td>0.002</td>\n",
       "      <td>45.000</td>\n",
       "      <td>0.00</td>\n",
       "      <td>0.053</td>\n",
       "      <td>3.760</td>\n",
       "      <td>0.25</td>\n",
       "      <td>6.880</td>\n",
       "      <td>0.00</td>\n",
       "      <td>0.2020</td>\n",
       "      <td>1.72</td>\n",
       "      <td>0.0</td>\n",
       "      <td>0.0</td>\n",
       "      <td>0.003</td>\n",
       "      <td>0.009</td>\n",
       "      <td>0.048</td>\n",
       "      <td>0.000</td>\n",
       "      <td>0.306</td>\n",
       "      <td>0.0</td>\n",
       "      <td>0.0</td>\n",
       "      <td>0.0</td>\n",
       "      <td>56.3</td>\n",
       "      <td>0.360</td>\n",
       "      <td>148.710</td>\n",
       "    </tr>\n",
       "    <tr>\n",
       "      <th>4</th>\n",
       "      <td>Мука овсяная цельнозерновая</td>\n",
       "      <td>20</td>\n",
       "      <td>Cereal Grains and Pasta</td>\n",
       "      <td>13.16875</td>\n",
       "      <td>69.91725</td>\n",
       "      <td>6.309</td>\n",
       "      <td>10.5</td>\n",
       "      <td>125.3</td>\n",
       "      <td>0.000</td>\n",
       "      <td>3.997</td>\n",
       "      <td>38.2</td>\n",
       "      <td>0.0</td>\n",
       "      <td>0.1476</td>\n",
       "      <td>443.4</td>\n",
       "      <td>371.8</td>\n",
       "      <td>0.000</td>\n",
       "      <td>42.81</td>\n",
       "      <td>373.1</td>\n",
       "      <td>3.257</td>\n",
       "      <td>3.619</td>\n",
       "      <td>34.69</td>\n",
       "      <td>0.390</td>\n",
       "      <td>2.754</td>\n",
       "      <td>0.00</td>\n",
       "      <td>1.945</td>\n",
       "      <td>20.15</td>\n",
       "      <td>0.1613</td>\n",
       "      <td>0.00</td>\n",
       "      <td>0.0</td>\n",
       "      <td>0.0</td>\n",
       "      <td>0.000</td>\n",
       "      <td>0.000</td>\n",
       "      <td>0.000</td>\n",
       "      <td>0.000</td>\n",
       "      <td>0.000</td>\n",
       "      <td>0.0</td>\n",
       "      <td>125.4</td>\n",
       "      <td>0.0</td>\n",
       "      <td>0.0</td>\n",
       "      <td>0.000</td>\n",
       "      <td>389.125</td>\n",
       "    </tr>\n",
       "  </tbody>\n",
       "</table>\n",
       "</div>"
      ],
      "text/plain": [
       "                 DescriptionRu  PriceRUB100g              FoodCategory  \\\n",
       "0                   Хлеб белый             10           Baked Products   \n",
       "1          Хлеб цельнозерновой             17           Baked Products   \n",
       "2     Печенье овсяное с изюмом             80           Baked Products   \n",
       "3             Говядина корейка             50            Beef Products   \n",
       "4  Мука овсяная цельнозерновая             20  Cereal Grains and Pasta   \n",
       "\n",
       "    Protein  Carbohydrate     Fat  Total Fiber  Magnesium (Mg)    SFA  \\\n",
       "0   9.43000      49.20000   3.590          2.3            26.9  0.821   \n",
       "1  12.30000      43.10000   3.550          6.0            76.6  0.732   \n",
       "2   5.79000      69.60000  14.300          3.3            32.4  4.780   \n",
       "3  22.80000       0.00000   6.390          0.0            11.3  2.560   \n",
       "4  13.16875      69.91725   6.309         10.5           125.3  0.000   \n",
       "\n",
       "   Iron (Fe)  Selenium (Se)  Vitamin K (phylloquinone)  \\\n",
       "0      3.360           23.2                        0.0   \n",
       "1      2.560           25.8                        0.0   \n",
       "2      2.280            6.0                       17.1   \n",
       "3      1.900           21.3                        0.0   \n",
       "4      3.997           38.2                        0.0   \n",
       "\n",
       "   Vitamin B6 (pyridoxine)  Copper (Cu)  Phosphorus (P)  \\\n",
       "0                   0.0920        124.0           113.0   \n",
       "1                   0.2160        226.0           212.0   \n",
       "2                   0.0700        141.0           111.0   \n",
       "3                   0.5750         43.0           206.0   \n",
       "4                   0.1476        443.4           371.8   \n",
       "\n",
       "   Linoleic 18:2 Omega-6  Calcium  Potassium (K)  Manganese (Mn)  Sodium (Na)  \\\n",
       "0                  1.670   211.00          117.0           0.632      477.000   \n",
       "1                  1.460   163.00          250.0           2.180      450.000   \n",
       "2                  4.210    29.00          245.0           0.755      314.000   \n",
       "3                  0.259    15.00          282.0           0.002       45.000   \n",
       "4                  0.000    42.81          373.1           3.257        3.619   \n",
       "\n",
       "   Folate  Thiamin   Zinc  Vitamin E (alpha-tocopherol)  Niacin  Biotin  \\\n",
       "0    0.00    0.507  0.880                          0.00   4.760    0.00   \n",
       "1   42.00    0.391  1.760                          2.82   4.430    0.00   \n",
       "2   34.00    0.295  0.620                          2.69   2.110    0.00   \n",
       "3    0.00    0.053  3.760                          0.25   6.880    0.00   \n",
       "4   34.69    0.390  2.754                          0.00   1.945   20.15   \n",
       "\n",
       "   Riboflavin (Vitamin B2)  Vitamin B12  Vitamin A  Vitamin D  \\\n",
       "0                   0.2400         0.00        0.0        0.0   \n",
       "1                   0.1660         0.00        0.0        0.0   \n",
       "2                   0.2180         0.00        0.0        0.0   \n",
       "3                   0.2020         1.72        0.0        0.0   \n",
       "4                   0.1613         0.00        0.0        0.0   \n",
       "\n",
       "   EPA 20:5 Omega-3  ALA 18:3 Omega-3  Arachidonic 20:4 Omega-6  \\\n",
       "0             0.002             0.200                     0.002   \n",
       "1             0.000             0.139                     0.004   \n",
       "2             0.004             0.632                     0.007   \n",
       "3             0.003             0.009                     0.048   \n",
       "4             0.000             0.000                     0.000   \n",
       "\n",
       "   DHA 22:6 Omega-3  Trans Fat  Iodine (I)  Molybdenum (Mo)  Vitamin C  \\\n",
       "0             0.000      0.035         0.0              0.0        0.0   \n",
       "1             0.000      0.022         0.0              0.0        0.0   \n",
       "2             0.001      0.040         0.0              0.0        0.0   \n",
       "3             0.000      0.306         0.0              0.0        0.0   \n",
       "4             0.000      0.000         0.0            125.4        0.0   \n",
       "\n",
       "   Choline  Pantothenic Acid (Vitamin B5)     Kcal  \n",
       "0      0.0                          0.548  266.830  \n",
       "1     27.2                          0.650  253.550  \n",
       "2      0.0                          0.400  430.260  \n",
       "3     56.3                          0.360  148.710  \n",
       "4      0.0                          0.000  389.125  "
      ]
     },
     "execution_count": 6,
     "metadata": {},
     "output_type": "execute_result"
    }
   ],
   "source": [
    "pd.set_option('display.max_columns', None)\n",
    "data.head()"
   ]
  },
  {
   "cell_type": "markdown",
   "id": "32395f4b-fb3e-4caa-b1a0-b7e5acaf66cf",
   "metadata": {},
   "source": [
    "----"
   ]
  },
  {
   "cell_type": "markdown",
   "id": "4a363f16-3235-4c81-a988-d3026c4eb62d",
   "metadata": {},
   "source": [
    "### Тест 1 - Рассчет стоимости для выживания с учетом необходимого количества белков и килокалорий."
   ]
  },
  {
   "cell_type": "markdown",
   "id": "40d25e4c-fac0-4e0d-a0ad-f64e17f94eee",
   "metadata": {},
   "source": [
    "Рассчеты на моем примере: Возраст - 25, Рост - 187, Вес - 85, умеренная активность."
   ]
  },
  {
   "cell_type": "code",
   "execution_count": 15,
   "id": "f39e313f-68e1-437f-89ee-8a4d4048f38f",
   "metadata": {},
   "outputs": [
    {
     "data": {
      "text/plain": [
       "Kcal                3376.0\n",
       "Protein               68.0\n",
       "Vitamin A            900.0\n",
       "Vitamin C             90.0\n",
       "Vitamin B6             1.3\n",
       "Vitamin E             15.0\n",
       "Vitamin K            120.0\n",
       "Thiamin                1.2\n",
       "Vitamin B12            2.4\n",
       "Riboflavin             1.3\n",
       "Folate               400.0\n",
       "Niacin                16.0\n",
       "Choline              550.0\n",
       "Pantothenic Acid       5.0\n",
       "Biotin                30.0\n",
       "Name: Суточная норма, dtype: float64"
      ]
     },
     "execution_count": 15,
     "metadata": {},
     "output_type": "execute_result"
    }
   ],
   "source": [
    "# Необходимое количество микроэлементов в суточном рационе\n",
    "\n",
    "micronutrients = pd.Series({'Kcal': 3376,\n",
    "                            'Protein': 68,\n",
    "                            'Vitamin A': 900,\n",
    "                            'Vitamin C': 90,\n",
    "                            'Vitamin B6': 1.3,\n",
    "                            'Vitamin E': 15,\n",
    "                            'Vitamin K': 120,\n",
    "                            'Thiamin': 1.2,\n",
    "                            'Vitamin B12': 2.4,\n",
    "                            'Riboflavin': 1.3,\n",
    "                            'Folate': 400,\n",
    "                            'Niacin': 16,\n",
    "                            'Choline': 550,\n",
    "                            'Pantothenic Acid': 5,\n",
    "                            'Biotin': 30}, \n",
    "                            name='Суточная норма')\n",
    "micronutrients"
   ]
  },
  {
   "cell_type": "code",
   "execution_count": 7,
   "id": "12dad7d9-cebe-45d7-9a2b-ddfc66d783d5",
   "metadata": {},
   "outputs": [],
   "source": [
    "# Создаем объекты-переменные, представляющие собой долю опредленного продукта: x1, x2...x88\n",
    "\n",
    "dict_var = dict(zip(['x' + str(i) for i in range(89)], list(data['DescriptionRu'])))\n",
    "\n",
    "for i in dict_var:\n",
    "    dict_var[i] = pulp.LpVariable(dict_var[i], lowBound=0)"
   ]
  },
  {
   "cell_type": "code",
   "execution_count": 8,
   "id": "7d94bcca-dc50-46e3-8296-8f872b5d66e6",
   "metadata": {},
   "outputs": [],
   "source": [
    "# Задача - Минимизация стоимости продуктов\n",
    "\n",
    "prob = LpProblem(\"Minimize_cost\", LpMinimize)"
   ]
  },
  {
   "cell_type": "code",
   "execution_count": 17,
   "id": "6fa0b03e-afa2-442a-a169-28017040d1d8",
   "metadata": {},
   "outputs": [],
   "source": [
    "# Функция для создания математической модели задачи\n",
    "\n",
    "# Целевая функция\n",
    "\n",
    "def target_function(feature):\n",
    "    func_list = []\n",
    "    i = 0\n",
    "    for key in dict_var.keys():\n",
    "        step = dict_var[key] * data[feature][i]\n",
    "        func_list.append(step)\n",
    "        i += 1\n",
    "    return sum(func_list), 'Целевая функция'\n",
    "\n",
    "\n",
    "# Ограничения\n",
    "\n",
    "def limitation(feature, value, name, is_greater=True):\n",
    "    func_list = []\n",
    "    i = 0\n",
    "    for key in dict_var.keys():\n",
    "        step = dict_var[key] * data[feature][i]\n",
    "        func_list.append(step)\n",
    "        i += 1\n",
    "    if is_greater is True:\n",
    "        return sum(func_list) >= value, name\n",
    "    else:\n",
    "        return sum(func_list) <= value, name"
   ]
  },
  {
   "cell_type": "code",
   "execution_count": 20,
   "id": "50cf69bc-bf44-4303-85f5-f97b78f30256",
   "metadata": {},
   "outputs": [],
   "source": [
    "prob += target_function('PriceRUB100g ')\n",
    "prob += limitation('Kcal', 3376, 'Каллорийность рациона должна превышать 3376 ккал')\n",
    "prob += limitation('Protein', 68, 'Количество белка должно быть больше 68г')"
   ]
  },
  {
   "cell_type": "code",
   "execution_count": 21,
   "id": "35c71723-0276-400a-a714-b497a0f4c349",
   "metadata": {},
   "outputs": [
    {
     "name": "stdout",
     "output_type": "stream",
     "text": [
      "Стоимость продуктов составит: 44.15 руб\n"
     ]
    }
   ],
   "source": [
    "prob.solve()\n",
    "\n",
    "print(f'Стоимость продуктов составит: {value(prob.objective):.4} руб')"
   ]
  },
  {
   "cell_type": "code",
   "execution_count": 22,
   "id": "c003e345-aed5-45f7-a7f4-0dcea876836d",
   "metadata": {},
   "outputs": [
    {
     "name": "stdout",
     "output_type": "stream",
     "text": [
      "Масло_подсолнечное = 158.1 г\n",
      "Мука_пшеничная = 566.7 г\n"
     ]
    }
   ],
   "source": [
    "for variable in prob.variables():\n",
    "    if variable.varValue != 0:\n",
    "        print(variable.name, \"=\", round(variable.varValue * 100, 1), 'г')"
   ]
  },
  {
   "cell_type": "markdown",
   "id": "19d54ded-2e69-4fad-b61f-0d53373f517c",
   "metadata": {},
   "source": [
    " "
   ]
  },
  {
   "cell_type": "markdown",
   "id": "87efe115-a85b-4318-a317-3286f4a478be",
   "metadata": {},
   "source": [
    "*__Самый дешевый способ выжить - Кушать лепешки!__*"
   ]
  },
  {
   "cell_type": "markdown",
   "id": "a5c7347c-fb7d-4f27-a603-11de41384533",
   "metadata": {},
   "source": [
    " "
   ]
  },
  {
   "cell_type": "markdown",
   "id": "9587cf26-d5a0-4f64-ac49-ca6a3962668f",
   "metadata": {},
   "source": [
    "----"
   ]
  },
  {
   "cell_type": "code",
   "execution_count": null,
   "id": "5885f896-0406-47ee-892f-10fb0d4fc301",
   "metadata": {},
   "outputs": [],
   "source": []
  },
  {
   "cell_type": "code",
   "execution_count": null,
   "id": "18487e9b-ecba-4f49-9641-7086ed354e1a",
   "metadata": {},
   "outputs": [],
   "source": []
  },
  {
   "cell_type": "code",
   "execution_count": null,
   "id": "66e8ba12-f7e3-42ba-88b0-fffbd2b0870d",
   "metadata": {},
   "outputs": [],
   "source": []
  },
  {
   "cell_type": "code",
   "execution_count": null,
   "id": "e7d849b6-124e-4c7c-816c-645e20500e5b",
   "metadata": {},
   "outputs": [],
   "source": []
  },
  {
   "cell_type": "code",
   "execution_count": null,
   "id": "a024e115-2b8b-47ac-9b1c-c6e500914b88",
   "metadata": {},
   "outputs": [],
   "source": []
  },
  {
   "cell_type": "code",
   "execution_count": null,
   "id": "4ae97740-ec5a-4841-b9c1-8a9b4c6feb92",
   "metadata": {},
   "outputs": [],
   "source": []
  },
  {
   "cell_type": "code",
   "execution_count": null,
   "id": "d8b431d7-c2cd-4594-8e41-69c4162176e3",
   "metadata": {},
   "outputs": [],
   "source": []
  }
 ],
 "metadata": {
  "kernelspec": {
   "display_name": "Python 3 (ipykernel)",
   "language": "python",
   "name": "python3"
  },
  "language_info": {
   "codemirror_mode": {
    "name": "ipython",
    "version": 3
   },
   "file_extension": ".py",
   "mimetype": "text/x-python",
   "name": "python",
   "nbconvert_exporter": "python",
   "pygments_lexer": "ipython3",
   "version": "3.9.15"
  }
 },
 "nbformat": 4,
 "nbformat_minor": 5
}
